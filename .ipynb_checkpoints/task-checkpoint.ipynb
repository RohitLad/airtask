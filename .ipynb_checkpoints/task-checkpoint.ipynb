{
 "cells": [
  {
   "cell_type": "markdown",
   "id": "included-pound",
   "metadata": {},
   "source": [
    "Let's import required libraries which are pandas (for data handling), matplotlib for plotting and numpy for numeric operations"
   ]
  },
  {
   "cell_type": "code",
   "execution_count": 1,
   "id": "commercial-scene",
   "metadata": {},
   "outputs": [],
   "source": [
    "import pandas as pd\n",
    "import matplotlib.pyplot as plt\n",
    "import numpy as np\n",
    "pd.options.mode.chained_assignment = None"
   ]
  },
  {
   "cell_type": "markdown",
   "id": "organic-static",
   "metadata": {},
   "source": [
    "While starting, I was not sure if a continuous datastream is available, in case it is required, the locations of all airports in latitude and longitude (deg) was loaded"
   ]
  },
  {
   "cell_type": "code",
   "execution_count": 2,
   "id": "personal-given",
   "metadata": {},
   "outputs": [
    {
     "data": {
      "text/html": [
       "<div>\n",
       "<style scoped>\n",
       "    .dataframe tbody tr th:only-of-type {\n",
       "        vertical-align: middle;\n",
       "    }\n",
       "\n",
       "    .dataframe tbody tr th {\n",
       "        vertical-align: top;\n",
       "    }\n",
       "\n",
       "    .dataframe thead th {\n",
       "        text-align: right;\n",
       "    }\n",
       "</style>\n",
       "<table border=\"1\" class=\"dataframe\">\n",
       "  <thead>\n",
       "    <tr style=\"text-align: right;\">\n",
       "      <th></th>\n",
       "      <th>AirportID</th>\n",
       "      <th>Name</th>\n",
       "      <th>City</th>\n",
       "      <th>Country</th>\n",
       "      <th>IATA</th>\n",
       "      <th>ICAO</th>\n",
       "      <th>Latitude</th>\n",
       "      <th>Longitude</th>\n",
       "    </tr>\n",
       "  </thead>\n",
       "  <tbody>\n",
       "    <tr>\n",
       "      <th>0</th>\n",
       "      <td>1</td>\n",
       "      <td>Goroka Airport</td>\n",
       "      <td>Goroka</td>\n",
       "      <td>Papua New Guinea</td>\n",
       "      <td>GKA</td>\n",
       "      <td>AYGA</td>\n",
       "      <td>-6.081690</td>\n",
       "      <td>145.391998</td>\n",
       "    </tr>\n",
       "    <tr>\n",
       "      <th>1</th>\n",
       "      <td>2</td>\n",
       "      <td>Madang Airport</td>\n",
       "      <td>Madang</td>\n",
       "      <td>Papua New Guinea</td>\n",
       "      <td>MAG</td>\n",
       "      <td>AYMD</td>\n",
       "      <td>-5.207080</td>\n",
       "      <td>145.789001</td>\n",
       "    </tr>\n",
       "    <tr>\n",
       "      <th>2</th>\n",
       "      <td>3</td>\n",
       "      <td>Mount Hagen Kagamuga Airport</td>\n",
       "      <td>Mount Hagen</td>\n",
       "      <td>Papua New Guinea</td>\n",
       "      <td>HGU</td>\n",
       "      <td>AYMH</td>\n",
       "      <td>-5.826790</td>\n",
       "      <td>144.296005</td>\n",
       "    </tr>\n",
       "    <tr>\n",
       "      <th>3</th>\n",
       "      <td>4</td>\n",
       "      <td>Nadzab Airport</td>\n",
       "      <td>Nadzab</td>\n",
       "      <td>Papua New Guinea</td>\n",
       "      <td>LAE</td>\n",
       "      <td>AYNZ</td>\n",
       "      <td>-6.569803</td>\n",
       "      <td>146.725977</td>\n",
       "    </tr>\n",
       "    <tr>\n",
       "      <th>4</th>\n",
       "      <td>5</td>\n",
       "      <td>Port Moresby Jacksons International Airport</td>\n",
       "      <td>Port Moresby</td>\n",
       "      <td>Papua New Guinea</td>\n",
       "      <td>POM</td>\n",
       "      <td>AYPY</td>\n",
       "      <td>-9.443380</td>\n",
       "      <td>147.220001</td>\n",
       "    </tr>\n",
       "  </tbody>\n",
       "</table>\n",
       "</div>"
      ],
      "text/plain": [
       "   AirportID                                         Name          City  \\\n",
       "0          1                               Goroka Airport        Goroka   \n",
       "1          2                               Madang Airport        Madang   \n",
       "2          3                 Mount Hagen Kagamuga Airport   Mount Hagen   \n",
       "3          4                               Nadzab Airport        Nadzab   \n",
       "4          5  Port Moresby Jacksons International Airport  Port Moresby   \n",
       "\n",
       "            Country IATA  ICAO  Latitude   Longitude  \n",
       "0  Papua New Guinea  GKA  AYGA -6.081690  145.391998  \n",
       "1  Papua New Guinea  MAG  AYMD -5.207080  145.789001  \n",
       "2  Papua New Guinea  HGU  AYMH -5.826790  144.296005  \n",
       "3  Papua New Guinea  LAE  AYNZ -6.569803  146.725977  \n",
       "4  Papua New Guinea  POM  AYPY -9.443380  147.220001  "
      ]
     },
     "execution_count": 2,
     "metadata": {},
     "output_type": "execute_result"
    }
   ],
   "source": [
    "airportdata = pd.read_csv('airports.csv', usecols=[0,1,2,3,4,5,6,7], names=['AirportID','Name','City','Country','IATA','ICAO','Latitude','Longitude'])\n",
    "airportdata.head()"
   ]
  },
  {
   "cell_type": "markdown",
   "id": "wound-watson",
   "metadata": {},
   "source": [
    "Reading the available dataset and displaying it's information"
   ]
  },
  {
   "cell_type": "code",
   "execution_count": 3,
   "id": "academic-cassette",
   "metadata": {},
   "outputs": [
    {
     "name": "stdout",
     "output_type": "stream",
     "text": [
      "<class 'pandas.core.frame.DataFrame'>\n",
      "RangeIndex: 716049 entries, 0 to 716048\n",
      "Data columns (total 16 columns):\n",
      " #   Column             Non-Null Count   Dtype  \n",
      "---  ------             --------------   -----  \n",
      " 0   airsenseMissionId  716049 non-null  int64  \n",
      " 1   targetAddress      716049 non-null  int64  \n",
      " 2   lat                716049 non-null  float64\n",
      " 3   lon                716049 non-null  float64\n",
      " 4   alt                716049 non-null  float64\n",
      " 5   posTime            716049 non-null  int64  \n",
      " 6   track              665601 non-null  float64\n",
      " 7   speed              665601 non-null  float64\n",
      " 8   targetId           713572 non-null  object \n",
      " 9   aircraftType       711939 non-null  object \n",
      " 10  aircraftReg        711585 non-null  object \n",
      " 11  airlineId          709429 non-null  object \n",
      " 12  touchdownPosTime   716049 non-null  int64  \n",
      " 13  takeoffPosTime     716049 non-null  int64  \n",
      " 14  destination        716049 non-null  object \n",
      " 15  origin             716049 non-null  object \n",
      "dtypes: float64(5), int64(5), object(6)\n",
      "memory usage: 87.4+ MB\n"
     ]
    }
   ],
   "source": [
    "filePath = 'data/sample_data_DXB.csv'\n",
    "data = pd.read_csv(filePath)\n",
    "data.info()"
   ]
  },
  {
   "cell_type": "markdown",
   "id": "anonymous-relief",
   "metadata": {},
   "source": [
    "Checking if the imported airport location dataset has all the required airports considered in the ADS-B dataset. The one's not available are printed and their locations are then manually entered"
   ]
  },
  {
   "cell_type": "code",
   "execution_count": 4,
   "id": "interesting-arrival",
   "metadata": {},
   "outputs": [
    {
     "name": "stdout",
     "output_type": "stream",
     "text": [
      "{'GRV': [], 'NMF': [], 'GSM': [], 'BYB': []}\n"
     ]
    }
   ],
   "source": [
    "airport_names = pd.unique(data.origin)\n",
    "airport_names = airport_names.tolist()\n",
    "airport_names.append('DXB')\n",
    "\n",
    "locations_own = {}\n",
    "locations_unknown = {}\n",
    "for airport_iata in airport_names:\n",
    "    loc = airportdata.loc[airportdata['IATA']==airport_iata]\n",
    "    if len(loc)>0:\n",
    "        locations_own[airport_iata] = [float(loc['Latitude']), float(loc['Longitude'])]\n",
    "    else:\n",
    "        locations_unknown[airport_iata] = []\n",
    "        \n",
    "print(locations_unknown)"
   ]
  },
  {
   "cell_type": "code",
   "execution_count": 5,
   "id": "institutional-sunrise",
   "metadata": {},
   "outputs": [],
   "source": [
    "locations_unknown['GRV'] = [43.38489122958333, 45.700649360330836]\n",
    "locations_unknown['NMF'] = [5.825289730090683, 73.47753787121358]\n",
    "locations_unknown['GSM'] = [26.755950801249845, 55.89552228558024]\n",
    "locations_unknown['BYB'] = [25.614667704625447, 56.24596821808005]\n",
    "locations_own.update(locations_unknown)"
   ]
  },
  {
   "cell_type": "markdown",
   "id": "severe-training",
   "metadata": {},
   "source": [
    "Simply verifying if the destination is unique in the dataset"
   ]
  },
  {
   "cell_type": "code",
   "execution_count": 6,
   "id": "vanilla-blocking",
   "metadata": {},
   "outputs": [
    {
     "data": {
      "text/plain": [
       "array(['DXB'], dtype=object)"
      ]
     },
     "execution_count": 6,
     "metadata": {},
     "output_type": "execute_result"
    }
   ],
   "source": [
    "data.destination.unique()"
   ]
  },
  {
   "cell_type": "markdown",
   "id": "administrative-pakistan",
   "metadata": {},
   "source": [
    "Haversine function is used to calculate the distance between geographical coordinates. "
   ]
  },
  {
   "cell_type": "code",
   "execution_count": 7,
   "id": "advisory-electronics",
   "metadata": {},
   "outputs": [],
   "source": [
    "def haversine(lat1, lon1, lat2, lon2, to_radians=True, earth_radius=6371):\n",
    "\n",
    "    if to_radians:\n",
    "        lat1, lon1, lat2, lon2 = np.deg2rad([lat1, lon1, lat2, lon2])\n",
    "\n",
    "    a = np.sin((lat2-lat1)/2.0)**2 + \\\n",
    "        np.cos(lat1) * np.cos(lat2) * np.sin((lon2-lon1)/2.0)**2\n",
    "\n",
    "    return earth_radius * 2 * np.arcsin(np.sqrt(a))"
   ]
  },
  {
   "cell_type": "markdown",
   "id": "indie-adjustment",
   "metadata": {},
   "source": [
    "The below mentioned function calculates the total distance for a given mission ID. It returns a Series object\n",
    "containing the distance, origin, destination, takeoff time (unix) and touchdown time (unix)"
   ]
  },
  {
   "cell_type": "code",
   "execution_count": 8,
   "id": "nuclear-buyer",
   "metadata": {},
   "outputs": [],
   "source": [
    "def dist_per_flight(mID, df, external_airport=True):\n",
    "    locs = df.loc[df['airsenseMissionId']==mID, ['lat', 'lon', 'origin', 'destination', 'posTime', 'touchdownPosTime', 'takeoffPosTime']].dropna().sort_values('posTime')\n",
    "    assert len(locs['touchdownPosTime'].unique()) == 1\n",
    "    org_dest = locs.iloc[0]\n",
    "    orig_name = str(org_dest.origin)\n",
    "    dest_name = str(org_dest.destination)\n",
    "    if external_airport:\n",
    "        dest = pd.DataFrame({'lat':[locations_own[dest_name][0]], 'lon':[locations_own[dest_name][1]]})\n",
    "        orig = pd.DataFrame({'lat':[locations_own[orig_name][0]], 'lon':[locations_own[orig_name][1]]})\n",
    "        locs = pd.concat([orig, locs[['lat', 'lon']], dest],ignore_index=True)\n",
    "        \n",
    "    dist = np.nansum(haversine(locs.lat, locs.lon, locs.lat.shift(-1), locs.lon.shift(-1)))\n",
    "    return pd.Series({'distance':dist, 'origin':orig_name, 'destination':dest_name, 'takeoffTime':org_dest.takeoffPosTime, 'touchdownTime':org_dest.touchdownPosTime})"
   ]
  },
  {
   "cell_type": "markdown",
   "id": "purple-training",
   "metadata": {},
   "source": [
    "Let's plot the flight trajectory for the first mission ID in the dataset"
   ]
  },
  {
   "cell_type": "code",
   "execution_count": 9,
   "id": "electronic-arrival",
   "metadata": {},
   "outputs": [
    {
     "name": "stdout",
     "output_type": "stream",
     "text": [
      "The total number of unique missions in the dataset are: 2475\n"
     ]
    },
    {
     "data": {
      "text/plain": [
       "Text(0, 0.5, 'Latitude (deg)')"
      ]
     },
     "execution_count": 9,
     "metadata": {},
     "output_type": "execute_result"
    },
    {
     "data": {
      "image/png": "[encoded data removed]",
      "text/plain": [
       "<Figure size 432x288 with 1 Axes>"
      ]
     },
     "metadata": {
      "needs_background": "light"
     },
     "output_type": "display_data"
    }
   ],
   "source": [
    "unique_missions = data['airsenseMissionId'].unique()\n",
    "print('The total number of unique missions in the dataset are: {}'.format(len(unique_missions)))\n",
    "missionID = -6616577058941016649\n",
    "test = data.loc[data['airsenseMissionId']==missionID]\n",
    "test_sorted = test.sort_values('posTime')\n",
    "plt.plot(test_sorted.lon, test_sorted.lat)\n",
    "ans_series = dist_per_flight(missionID, data)\n",
    "plt.text(locations_own[ans_series.origin][1], locations_own[ans_series.origin][0], ans_series.origin)\n",
    "plt.text(locations_own[ans_series.destination][1], locations_own[ans_series.destination][0], ans_series.destination)\n",
    "plt.xlabel('Longitude (deg)')\n",
    "plt.ylabel('Latitude (deg)')"
   ]
  },
  {
   "cell_type": "markdown",
   "id": "injured-slide",
   "metadata": {},
   "source": [
    "The above plot shows trajectory from FRU to DXB. It is necessary to sort the location values according to postime since it isn't sorted already in the dataset.\n",
    "\n",
    "Now, let's calculate the distances for all the uinique missions in the provided dataset and plot a histogram with 100 bins"
   ]
  },
  {
   "cell_type": "code",
   "execution_count": 10,
   "id": "limiting-victim",
   "metadata": {},
   "outputs": [],
   "source": [
    "mission_wise = data.groupby('airsenseMissionId')\n",
    "ans_df = mission_wise.apply(lambda x: dist_per_flight(x.name, x))"
   ]
  },
  {
   "cell_type": "code",
   "execution_count": 11,
   "id": "atomic-cholesterol",
   "metadata": {},
   "outputs": [
    {
     "data": {
      "text/plain": [
       "Text(0, 0.5, 'Number of flights')"
      ]
     },
     "execution_count": 11,
     "metadata": {},
     "output_type": "execute_result"
    },
    {
     "data": {
      "image/png": "[encoded data removed]",
      "text/plain": [
       "<Figure size 432x288 with 1 Axes>"
      ]
     },
     "metadata": {
      "needs_background": "light"
     },
     "output_type": "display_data"
    }
   ],
   "source": [
    "plt.hist(ans_df['distance'], bins=100)\n",
    "plt.xlabel('Distance in kms')\n",
    "plt.ylabel('Number of flights')"
   ]
  },
  {
   "cell_type": "markdown",
   "id": "ruled-smith",
   "metadata": {},
   "source": [
    "As seen in the histogram above, a high number of flights are around 2000-3000 kms range. whereas there are almost no flights with 1000 km range. There are still some flights between 11000-14000 kms range but they are less frequent"
   ]
  },
  {
   "cell_type": "markdown",
   "id": "thrown-citizen",
   "metadata": {},
   "source": [
    "Now, let's count the number of unique origin airports"
   ]
  },
  {
   "cell_type": "code",
   "execution_count": 12,
   "id": "going-lucas",
   "metadata": {},
   "outputs": [
    {
     "data": {
      "text/plain": [
       "DEL    99\n",
       "BOM    93\n",
       "BAH    68\n",
       "CAI    54\n",
       "DAC    53\n",
       "       ..\n",
       "IQA     1\n",
       "XJD     1\n",
       "CRZ     1\n",
       "SLL     1\n",
       "GOA     1\n",
       "Name: origin, Length: 202, dtype: int64"
      ]
     },
     "execution_count": 12,
     "metadata": {},
     "output_type": "execute_result"
    }
   ],
   "source": [
    "ans_df['origin'].value_counts()"
   ]
  },
  {
   "cell_type": "markdown",
   "id": "dramatic-liberty",
   "metadata": {},
   "source": [
    "It seems that the DEL has the highest number of flights to DXB, BOM has the second highest and so on. Let's take the distances only from DEl to DXB calculated previously"
   ]
  },
  {
   "cell_type": "code",
   "execution_count": 13,
   "id": "instrumental-journal",
   "metadata": {},
   "outputs": [],
   "source": [
    "max_flights_df = ans_df.loc[ans_df['origin']=='DEL',['distance']]"
   ]
  },
  {
   "cell_type": "markdown",
   "id": "amino-class",
   "metadata": {},
   "source": [
    "Among the 99 flights from DEL to DXB, let's print the mean and variance"
   ]
  },
  {
   "cell_type": "code",
   "execution_count": 14,
   "id": "center-conversation",
   "metadata": {},
   "outputs": [
    {
     "name": "stdout",
     "output_type": "stream",
     "text": [
      "Mean distance from DEL to DXB is 2342.8387809280325 kms\n",
      "The variance of distances for DEL to DXB is 1818.6069809722383 kms\n"
     ]
    }
   ],
   "source": [
    "print('Mean distance from DEL to DXB is {} kms'.format(max_flights_df.mean()['distance']))\n",
    "print('The variance of distances for DEL to DXB is {} kms'.format(max_flights_df.var()['distance']))"
   ]
  },
  {
   "cell_type": "markdown",
   "id": "confused-grove",
   "metadata": {},
   "source": [
    "There seems to be a large variance for the above mean value. Let's plot all the trajectories from DEL to DXB"
   ]
  },
  {
   "cell_type": "code",
   "execution_count": 15,
   "id": "golden-graham",
   "metadata": {},
   "outputs": [
    {
     "data": {
      "text/plain": [
       "Text(0, 0.5, 'Latitude (deg)')"
      ]
     },
     "execution_count": 15,
     "metadata": {},
     "output_type": "execute_result"
    },
    {
     "data": {
      "image/png": "[encoded data removed]",
      "text/plain": [
       "<Figure size 432x288 with 1 Axes>"
      ]
     },
     "metadata": {
      "needs_background": "light"
     },
     "output_type": "display_data"
    }
   ],
   "source": [
    "del_data = data.loc[data['origin']=='DEL']\n",
    "del_ids = del_data['airsenseMissionId'].unique()\n",
    "for mission_id in del_ids:\n",
    "    test = del_data.loc[del_data['airsenseMissionId']==mission_id]\n",
    "    test_sorted = test.sort_values('posTime')\n",
    "    plt.plot(test_sorted.lon, test_sorted.lat)\n",
    "DEL = 'DEL'\n",
    "DXB = 'DXB'\n",
    "plt.text(locations_own[DEL][1], locations_own[DEL][0], DEL)\n",
    "plt.text(locations_own[DXB][1], locations_own[DXB][0], DXB)\n",
    "plt.xlabel('Longitude (deg)')\n",
    "plt.ylabel('Latitude (deg)')"
   ]
  },
  {
   "cell_type": "markdown",
   "id": "floral-shadow",
   "metadata": {},
   "source": [
    "As seen from the above plot, there seems to huge diversions from the normal flight path for a couple of flights. To investigate it, let's plot the total flight distance w.r.t takeoff time stamp"
   ]
  },
  {
   "cell_type": "code",
   "execution_count": 17,
   "id": "structural-investigator",
   "metadata": {},
   "outputs": [
    {
     "data": {
      "text/plain": [
       "Text(0.5, 0, 'day of take off')"
      ]
     },
     "execution_count": 17,
     "metadata": {},
     "output_type": "execute_result"
    },
    {
     "data": {
      "image/png": "[encoded data removed]",
      "text/plain": [
       "<Figure size 432x288 with 1 Axes>"
      ]
     },
     "metadata": {
      "needs_background": "light"
     },
     "output_type": "display_data"
    }
   ],
   "source": [
    "del_dist_data = ans_df.loc[ans_df['origin']=='DEL']\n",
    "del_dist_data['takeoffTime']=pd.to_datetime(del_dist_data.takeoffTime, unit='ms')\n",
    "plt.xticks(rotation=45)\n",
    "plt.plot(del_dist_data.takeoffTime,del_dist_data.distance)\n",
    "plt.ylabel('flight distance in kms')\n",
    "plt.xlabel('day of take off')"
   ]
  },
  {
   "cell_type": "markdown",
   "id": "static-vanilla",
   "metadata": {},
   "source": [
    "As seen from the above plot, from 7th March 2021 and 9th March 2021, there has been a spike in the flight distance. Could it be a geopolitical issue or is it because of harsh weather conditions could be determined by looking at weather information and other sources of info."
   ]
  },
  {
   "cell_type": "code",
   "execution_count": null,
   "id": "recreational-wayne",
   "metadata": {},
   "outputs": [],
   "source": []
  }
 ],
 "metadata": {
  "kernelspec": {
   "display_name": "Python 3",
   "language": "python",
   "name": "python3"
  },
  "language_info": {
   "codemirror_mode": {
    "name": "ipython",
    "version": 3
   },
   "file_extension": ".py",
   "mimetype": "text/x-python",
   "name": "python",
   "nbconvert_exporter": "python",
   "pygments_lexer": "ipython3",
   "version": "3.6.8"
  }
 },
 "nbformat": 4,
 "nbformat_minor": 5
}
