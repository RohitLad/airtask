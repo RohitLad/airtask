{
 "cells": [
  {
   "cell_type": "code",
   "execution_count": 1,
   "id": "amateur-flour",
   "metadata": {},
   "outputs": [],
   "source": [
    "import pandas as pd\n",
    "import matplotlib.pyplot as plt"
   ]
  },
  {
   "cell_type": "code",
   "execution_count": 2,
   "id": "turkish-approach",
   "metadata": {},
   "outputs": [],
   "source": [
    "filePath = 'data\\sample_data_DXB.csv'"
   ]
  },
  {
   "cell_type": "code",
   "execution_count": 3,
   "id": "empirical-retreat",
   "metadata": {},
   "outputs": [],
   "source": [
    "data = pd.read_csv(filePath)"
   ]
  },
  {
   "cell_type": "code",
   "execution_count": 4,
   "id": "equivalent-projection",
   "metadata": {},
   "outputs": [
    {
     "name": "stdout",
     "output_type": "stream",
     "text": [
      "<class 'pandas.core.frame.DataFrame'>\n",
      "RangeIndex: 716049 entries, 0 to 716048\n",
      "Data columns (total 16 columns):\n",
      " #   Column             Non-Null Count   Dtype  \n",
      "---  ------             --------------   -----  \n",
      " 0   airsenseMissionId  716049 non-null  int64  \n",
      " 1   targetAddress      716049 non-null  int64  \n",
      " 2   lat                716049 non-null  float64\n",
      " 3   lon                716049 non-null  float64\n",
      " 4   alt                716049 non-null  float64\n",
      " 5   posTime            716049 non-null  int64  \n",
      " 6   track              665601 non-null  float64\n",
      " 7   speed              665601 non-null  float64\n",
      " 8   targetId           713572 non-null  object \n",
      " 9   aircraftType       711939 non-null  object \n",
      " 10  aircraftReg        711585 non-null  object \n",
      " 11  airlineId          709429 non-null  object \n",
      " 12  touchdownPosTime   716049 non-null  int64  \n",
      " 13  takeoffPosTime     716049 non-null  int64  \n",
      " 14  destination        716049 non-null  object \n",
      " 15  origin             716049 non-null  object \n",
      "dtypes: float64(5), int64(5), object(6)\n",
      "memory usage: 87.4+ MB\n"
     ]
    }
   ],
   "source": [
    "data.info()"
   ]
  },
  {
   "cell_type": "code",
   "execution_count": 5,
   "id": "opened-horse",
   "metadata": {},
   "outputs": [],
   "source": [
    "origin_names = pd.unique(data.origin)"
   ]
  },
  {
   "cell_type": "code",
   "execution_count": 6,
   "id": "satisfactory-material",
   "metadata": {},
   "outputs": [
    {
     "data": {
      "text/plain": [
       "array(['FRU', 'PVG', 'YYZ', 'HYD', 'ORD', 'IAH', 'CGN', 'CCJ', 'BOS',\n",
       "       'DEL', 'TAS', 'COK', 'ISB', 'JFK', 'DAC', 'KBL', 'LHE', 'BLR',\n",
       "       'MLE', 'CKG', 'OTP', 'BSR', 'TOB', 'KWI', 'BAH', 'HKG', 'SIN',\n",
       "       'BGW', 'ADD', 'TRV', 'CAI', 'KBP', 'IXM', 'LKO', 'CRK', 'JED',\n",
       "       'ATQ', 'BMA', 'MAD', 'AMS', 'CGK', 'KHI', 'MUX', 'RUH', 'MNL',\n",
       "       'CGP', 'BEG', 'SKT', 'DSS', 'CDG', 'BOM', 'CPH', 'TUN', 'FRA',\n",
       "       'BKK', 'GVA', 'LHR', 'MXP', 'KTM', 'MAA', 'VIE', 'TBS', 'KIX',\n",
       "       'ACC', 'CMN', 'TRZ', 'JNB', 'AMM', 'SGN', 'BRU', 'LOS', 'CNN',\n",
       "       'KRT', 'HAN', 'BEY', 'SEZ', 'CMB', 'DME', 'SAW', 'NBO', 'ZNZ',\n",
       "       'IXE', 'IST', 'BCN', 'KGL', 'LCK', 'LAX', 'SEA', 'CCU', 'GRU',\n",
       "       'LGG', 'PEW', 'ALA', 'LEJ', 'IKA', 'SVO', 'ZIA', 'PEK', 'BUD',\n",
       "       'AMD', 'KRW', 'SDF', 'MEL', 'ISU', 'MEM', 'SYD', 'GYD', 'LYP',\n",
       "       'GRV', 'ABV', 'DAR', 'NRT', 'PNQ', 'IEV', 'OSL', 'ZRH', 'EBB',\n",
       "       'LAD', 'PRG', 'ICN', 'IAD', 'MSQ', 'CKY', 'KUL', 'CAN', 'HBE',\n",
       "       'DOH', 'UFA', 'MCO', 'TSE', 'SZX', 'VKO', 'ASM', 'EVN', 'HGA',\n",
       "       'SOF', 'ZAZ', 'WAW', 'DUB', 'MAN', 'MUC', 'DUS', 'BLQ', 'HAM',\n",
       "       'ARN', 'LIS', 'FCO', 'ATH', 'TPE', 'SJJ', 'EBL', 'DYU', 'SLL',\n",
       "       'SFO', 'DFW', 'KZN', 'KUF', 'JAI', 'JIB', 'NJF', 'PER', 'MIA',\n",
       "       'OVB', 'MCT', 'DMM', 'BSA', 'JUB', 'BNE', 'LUN', 'GOA', 'HND',\n",
       "       'GOI', 'UET', 'HEL', 'DWC', 'SYZ', 'LRR', 'STN', 'ODS', 'LYS',\n",
       "       'LED', 'PNH', 'MST', 'MRU', 'NMF', 'TLV', 'LCA', 'IQA', 'OSF',\n",
       "       'HRG', 'ROV', 'ALG', 'SVX', 'KTW', 'KRK', 'GSM', 'XJD', 'RKT',\n",
       "       'PZU', 'BYB', 'AUH', 'CRZ'], dtype=object)"
      ]
     },
     "execution_count": 6,
     "metadata": {},
     "output_type": "execute_result"
    }
   ],
   "source": [
    "origin_names"
   ]
  },
  {
   "cell_type": "code",
   "execution_count": 7,
   "id": "floating-integer",
   "metadata": {},
   "outputs": [
    {
     "ename": "SyntaxError",
     "evalue": "invalid syntax (<ipython-input-7-583e4c2e66ad>, line 1)",
     "output_type": "error",
     "traceback": [
      "\u001b[1;36m  File \u001b[1;32m\"<ipython-input-7-583e4c2e66ad>\"\u001b[1;36m, line \u001b[1;32m1\u001b[0m\n\u001b[1;33m    locations = {'FRU': [43.05442716407405, 74.4696331512106], 'PVG': [31.144518348021638, 121.8084446589535], 'YYZ'}\u001b[0m\n\u001b[1;37m                                                                                                                    ^\u001b[0m\n\u001b[1;31mSyntaxError\u001b[0m\u001b[1;31m:\u001b[0m invalid syntax\n"
     ]
    }
   ],
   "source": [
    "locations = {'FRU': [43.05442716407405, 74.4696331512106], 'PVG': [31.144518348021638, 121.8084446589535], \n",
    "             'HYD': [78.429855, 17.231318], \"ORD\": [-87.9048, 41.9786], \"IAH\": [-95.34140014648438, 29.984399795532227],\n",
    "            }"
   ]
  },
  {
   "cell_type": "code",
   "execution_count": 19,
   "id": "distinguished-finder",
   "metadata": {},
   "outputs": [
    {
     "ename": "TypeError",
     "evalue": "__init__() missing 1 required positional argument: 'domain'",
     "output_type": "error",
     "traceback": [
      "\u001b[1;31m---------------------------------------------------------------------------\u001b[0m",
      "\u001b[1;31mTypeError\u001b[0m                                 Traceback (most recent call last)",
      "\u001b[1;32m<ipython-input-19-ac64a6d39db7>\u001b[0m in \u001b[0;36m<module>\u001b[1;34m\u001b[0m\n\u001b[0;32m      1\u001b[0m \u001b[1;32mfrom\u001b[0m \u001b[0mgeopy\u001b[0m\u001b[1;33m.\u001b[0m\u001b[0mgeocoders\u001b[0m \u001b[1;32mimport\u001b[0m \u001b[0mPelias\u001b[0m \u001b[1;32mas\u001b[0m \u001b[0mserv\u001b[0m\u001b[1;33m\u001b[0m\u001b[1;33m\u001b[0m\u001b[0m\n\u001b[1;32m----> 2\u001b[1;33m \u001b[0mgeolocator\u001b[0m \u001b[1;33m=\u001b[0m \u001b[0mserv\u001b[0m\u001b[1;33m(\u001b[0m\u001b[1;33m)\u001b[0m\u001b[1;33m\u001b[0m\u001b[1;33m\u001b[0m\u001b[0m\n\u001b[0m\u001b[0;32m      3\u001b[0m \u001b[0mairport_locations\u001b[0m \u001b[1;33m=\u001b[0m \u001b[1;33m{\u001b[0m\u001b[1;33m}\u001b[0m\u001b[1;33m\u001b[0m\u001b[1;33m\u001b[0m\u001b[0m\n\u001b[0;32m      4\u001b[0m \u001b[1;32mfor\u001b[0m \u001b[0mairport\u001b[0m \u001b[1;32min\u001b[0m \u001b[0morigin_names\u001b[0m\u001b[1;33m:\u001b[0m\u001b[1;33m\u001b[0m\u001b[1;33m\u001b[0m\u001b[0m\n\u001b[0;32m      5\u001b[0m     \u001b[0mlocation\u001b[0m \u001b[1;33m=\u001b[0m \u001b[0mgeolocator\u001b[0m\u001b[1;33m.\u001b[0m\u001b[0mgeocode\u001b[0m\u001b[1;33m(\u001b[0m\u001b[0mairport\u001b[0m\u001b[1;33m+\u001b[0m\u001b[1;34m\" airport\"\u001b[0m\u001b[1;33m)\u001b[0m\u001b[1;33m\u001b[0m\u001b[1;33m\u001b[0m\u001b[0m\n",
      "\u001b[1;31mTypeError\u001b[0m: __init__() missing 1 required positional argument: 'domain'"
     ]
    }
   ],
   "source": [
    "from geopy.geocoders import Pelias as serv\n",
    "geolocator = serv()\n",
    "airport_locations = {}\n",
    "for airport in origin_names:\n",
    "    location = geolocator.geocode(airport+\" airport\")\n",
    "    airport_locations[airport] = [location.latitude, location.longitude]"
   ]
  },
  {
   "cell_type": "code",
   "execution_count": null,
   "id": "oriental-australian",
   "metadata": {},
   "outputs": [],
   "source": []
  }
 ],
 "metadata": {
  "kernelspec": {
   "display_name": "Python 3",
   "language": "python",
   "name": "python3"
  },
  "language_info": {
   "codemirror_mode": {
    "name": "ipython",
    "version": 3
   },
   "file_extension": ".py",
   "mimetype": "text/x-python",
   "name": "python",
   "nbconvert_exporter": "python",
   "pygments_lexer": "ipython3",
   "version": "3.7.6"
  }
 },
 "nbformat": 4,
 "nbformat_minor": 5
}
