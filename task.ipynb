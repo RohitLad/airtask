{
 "cells": [
  {
   "cell_type": "code",
   "execution_count": 1,
   "id": "commercial-scene",
   "metadata": {},
   "outputs": [],
   "source": [
    "import pandas as pd\n",
    "import matplotlib.pyplot as plt\n",
    "import numpy as np"
   ]
  },
  {
   "cell_type": "code",
   "execution_count": 2,
   "id": "personal-given",
   "metadata": {},
   "outputs": [
    {
     "data": {
      "text/html": [
       "<div>\n",
       "<style scoped>\n",
       "    .dataframe tbody tr th:only-of-type {\n",
       "        vertical-align: middle;\n",
       "    }\n",
       "\n",
       "    .dataframe tbody tr th {\n",
       "        vertical-align: top;\n",
       "    }\n",
       "\n",
       "    .dataframe thead th {\n",
       "        text-align: right;\n",
       "    }\n",
       "</style>\n",
       "<table border=\"1\" class=\"dataframe\">\n",
       "  <thead>\n",
       "    <tr style=\"text-align: right;\">\n",
       "      <th></th>\n",
       "      <th>AirportID</th>\n",
       "      <th>Name</th>\n",
       "      <th>City</th>\n",
       "      <th>Country</th>\n",
       "      <th>IATA</th>\n",
       "      <th>ICAO</th>\n",
       "      <th>Latitude</th>\n",
       "      <th>Longitude</th>\n",
       "    </tr>\n",
       "  </thead>\n",
       "  <tbody>\n",
       "    <tr>\n",
       "      <th>0</th>\n",
       "      <td>1</td>\n",
       "      <td>Goroka Airport</td>\n",
       "      <td>Goroka</td>\n",
       "      <td>Papua New Guinea</td>\n",
       "      <td>GKA</td>\n",
       "      <td>AYGA</td>\n",
       "      <td>-6.081690</td>\n",
       "      <td>145.391998</td>\n",
       "    </tr>\n",
       "    <tr>\n",
       "      <th>1</th>\n",
       "      <td>2</td>\n",
       "      <td>Madang Airport</td>\n",
       "      <td>Madang</td>\n",
       "      <td>Papua New Guinea</td>\n",
       "      <td>MAG</td>\n",
       "      <td>AYMD</td>\n",
       "      <td>-5.207080</td>\n",
       "      <td>145.789001</td>\n",
       "    </tr>\n",
       "    <tr>\n",
       "      <th>2</th>\n",
       "      <td>3</td>\n",
       "      <td>Mount Hagen Kagamuga Airport</td>\n",
       "      <td>Mount Hagen</td>\n",
       "      <td>Papua New Guinea</td>\n",
       "      <td>HGU</td>\n",
       "      <td>AYMH</td>\n",
       "      <td>-5.826790</td>\n",
       "      <td>144.296005</td>\n",
       "    </tr>\n",
       "    <tr>\n",
       "      <th>3</th>\n",
       "      <td>4</td>\n",
       "      <td>Nadzab Airport</td>\n",
       "      <td>Nadzab</td>\n",
       "      <td>Papua New Guinea</td>\n",
       "      <td>LAE</td>\n",
       "      <td>AYNZ</td>\n",
       "      <td>-6.569803</td>\n",
       "      <td>146.725977</td>\n",
       "    </tr>\n",
       "    <tr>\n",
       "      <th>4</th>\n",
       "      <td>5</td>\n",
       "      <td>Port Moresby Jacksons International Airport</td>\n",
       "      <td>Port Moresby</td>\n",
       "      <td>Papua New Guinea</td>\n",
       "      <td>POM</td>\n",
       "      <td>AYPY</td>\n",
       "      <td>-9.443380</td>\n",
       "      <td>147.220001</td>\n",
       "    </tr>\n",
       "  </tbody>\n",
       "</table>\n",
       "</div>"
      ],
      "text/plain": [
       "   AirportID                                         Name          City  \\\n",
       "0          1                               Goroka Airport        Goroka   \n",
       "1          2                               Madang Airport        Madang   \n",
       "2          3                 Mount Hagen Kagamuga Airport   Mount Hagen   \n",
       "3          4                               Nadzab Airport        Nadzab   \n",
       "4          5  Port Moresby Jacksons International Airport  Port Moresby   \n",
       "\n",
       "            Country IATA  ICAO  Latitude   Longitude  \n",
       "0  Papua New Guinea  GKA  AYGA -6.081690  145.391998  \n",
       "1  Papua New Guinea  MAG  AYMD -5.207080  145.789001  \n",
       "2  Papua New Guinea  HGU  AYMH -5.826790  144.296005  \n",
       "3  Papua New Guinea  LAE  AYNZ -6.569803  146.725977  \n",
       "4  Papua New Guinea  POM  AYPY -9.443380  147.220001  "
      ]
     },
     "execution_count": 2,
     "metadata": {},
     "output_type": "execute_result"
    }
   ],
   "source": [
    "airportdata = pd.read_csv('airports.csv', usecols=[0,1,2,3,4,5,6,7], names=['AirportID','Name','City','Country','IATA','ICAO','Latitude','Longitude'])\n",
    "airportdata.head()"
   ]
  },
  {
   "cell_type": "code",
   "execution_count": 3,
   "id": "academic-cassette",
   "metadata": {},
   "outputs": [
    {
     "name": "stdout",
     "output_type": "stream",
     "text": [
      "<class 'pandas.core.frame.DataFrame'>\n",
      "RangeIndex: 716049 entries, 0 to 716048\n",
      "Data columns (total 16 columns):\n",
      " #   Column             Non-Null Count   Dtype  \n",
      "---  ------             --------------   -----  \n",
      " 0   airsenseMissionId  716049 non-null  int64  \n",
      " 1   targetAddress      716049 non-null  int64  \n",
      " 2   lat                716049 non-null  float64\n",
      " 3   lon                716049 non-null  float64\n",
      " 4   alt                716049 non-null  float64\n",
      " 5   posTime            716049 non-null  int64  \n",
      " 6   track              665601 non-null  float64\n",
      " 7   speed              665601 non-null  float64\n",
      " 8   targetId           713572 non-null  object \n",
      " 9   aircraftType       711939 non-null  object \n",
      " 10  aircraftReg        711585 non-null  object \n",
      " 11  airlineId          709429 non-null  object \n",
      " 12  touchdownPosTime   716049 non-null  int64  \n",
      " 13  takeoffPosTime     716049 non-null  int64  \n",
      " 14  destination        716049 non-null  object \n",
      " 15  origin             716049 non-null  object \n",
      "dtypes: float64(5), int64(5), object(6)\n",
      "memory usage: 87.4+ MB\n"
     ]
    }
   ],
   "source": [
    "filePath = 'data/sample_data_DXB.csv'\n",
    "data = pd.read_csv(filePath)\n",
    "data.info()"
   ]
  },
  {
   "cell_type": "code",
   "execution_count": 4,
   "id": "interesting-arrival",
   "metadata": {},
   "outputs": [],
   "source": [
    "airport_names = pd.unique(data.origin)\n",
    "airport_names = airport_names.tolist()\n",
    "airport_names.append('DXB')"
   ]
  },
  {
   "cell_type": "code",
   "execution_count": 5,
   "id": "naval-tenant",
   "metadata": {},
   "outputs": [],
   "source": [
    "locations_own = {}\n",
    "locations_unknown = {}\n",
    "for airport_iata in airport_names:\n",
    "    loc = airportdata.loc[airportdata['IATA']==airport_iata]\n",
    "    if len(loc)>0:\n",
    "        locations_own[airport_iata] = [float(loc['Latitude']), float(loc['Longitude'])]\n",
    "    else:\n",
    "        locations_unknown[airport_iata] = []"
   ]
  },
  {
   "cell_type": "code",
   "execution_count": 6,
   "id": "supported-feeling",
   "metadata": {},
   "outputs": [
    {
     "data": {
      "text/plain": [
       "{'GRV': [], 'NMF': [], 'GSM': [], 'BYB': []}"
      ]
     },
     "execution_count": 6,
     "metadata": {},
     "output_type": "execute_result"
    }
   ],
   "source": [
    "locations_unknown"
   ]
  },
  {
   "cell_type": "code",
   "execution_count": 7,
   "id": "institutional-sunrise",
   "metadata": {},
   "outputs": [],
   "source": [
    "locations_unknown['GRV'] = [43.38489122958333, 45.700649360330836]\n",
    "locations_unknown['NMF'] = [5.825289730090683, 73.47753787121358]\n",
    "locations_unknown['GSM'] = [26.755950801249845, 55.89552228558024]\n",
    "locations_unknown['BYB'] = [25.614667704625447, 56.24596821808005]"
   ]
  },
  {
   "cell_type": "code",
   "execution_count": 8,
   "id": "consolidated-stake",
   "metadata": {},
   "outputs": [],
   "source": [
    "locations_own.update(locations_unknown)"
   ]
  },
  {
   "cell_type": "code",
   "execution_count": 9,
   "id": "advisory-electronics",
   "metadata": {},
   "outputs": [],
   "source": [
    "def haversine(lat1, lon1, lat2, lon2, to_radians=True, earth_radius=6371):\n",
    "\n",
    "    if to_radians:\n",
    "        lat1, lon1, lat2, lon2 = np.deg2rad([lat1, lon1, lat2, lon2])\n",
    "\n",
    "    a = np.sin((lat2-lat1)/2.0)**2 + \\\n",
    "        np.cos(lat1) * np.cos(lat2) * np.sin((lon2-lon1)/2.0)**2\n",
    "\n",
    "    return earth_radius * 2 * np.arcsin(np.sqrt(a))\n",
    "\n",
    "def dist_per_flight(mID, df):\n",
    "    locs = df.loc[df['airsenseMissionId']==mID, ['lat', 'lon', 'origin', 'destination', 'posTime', 'touchdownPosTime', 'takeoffPosTime']].dropna().sort_values('posTime')\n",
    "    assert len(locs['touchdownPosTime'].unique()) == 1\n",
    "    org_dest = locs.iloc[0]\n",
    "    orig_name = str(org_dest.origin)\n",
    "    dest_name = str(org_dest.destination)\n",
    "    dest = pd.DataFrame({'lat':[locations_own[dest_name][0]], 'lon':[locations_own[dest_name][1]]})\n",
    "    orig = pd.DataFrame({'lat':[locations_own[orig_name][0]], 'lon':[locations_own[orig_name][1]]})\n",
    "    locs = pd.concat([orig, locs[['lat', 'lon']], dest],ignore_index=True)\n",
    "    dist = np.nansum(haversine(locs.lat, locs.lon, locs.lat.shift(-1), locs.lon.shift(-1)))\n",
    "    return dist, orig_name, dest_name"
   ]
  },
  {
   "cell_type": "code",
   "execution_count": 10,
   "id": "electronic-arrival",
   "metadata": {},
   "outputs": [
    {
     "name": "stdout",
     "output_type": "stream",
     "text": [
      "2475\n"
     ]
    },
    {
     "data": {
      "text/plain": [
       "[<matplotlib.lines.Line2D at 0x7f6f85c91978>]"
      ]
     },
     "execution_count": 10,
     "metadata": {},
     "output_type": "execute_result"
    },
    {
     "data": {
      "image/png": "[encoded data removed]",
      "text/plain": [
       "<Figure size 432x288 with 1 Axes>"
      ]
     },
     "metadata": {
      "needs_background": "light"
     },
     "output_type": "display_data"
    }
   ],
   "source": [
    "unique_missions = data['airsenseMissionId'].unique()\n",
    "print(len(unique_missions))\n",
    "test = data.loc[data['airsenseMissionId']==-6616577058941016649]\n",
    "test_sorted = test.sort_values('posTime')\n",
    "plt.plot(test_sorted.lat, test_sorted.lon)"
   ]
  },
  {
   "cell_type": "code",
   "execution_count": 11,
   "id": "special-bacteria",
   "metadata": {},
   "outputs": [],
   "source": [
    "unique_missions = data['airsenseMissionId'].unique()\n",
    "distances = []\n",
    "mission_ids = []\n",
    "origins = []\n",
    "destinations = []\n",
    "for mission_ID in unique_missions:\n",
    "    dist, orig, dest = dist_per_flight(mission_ID, data)\n",
    "    distances.append(dist)\n",
    "    mission_ids.append(mission_ID)\n",
    "    origins.append(orig)\n",
    "    destinations.append(dest)\n",
    "    \n",
    "new_df = pd.DataFrame({'origin': origins, 'destination':destinations, 'distance':distances})"
   ]
  },
  {
   "cell_type": "code",
   "execution_count": 12,
   "id": "respected-mixer",
   "metadata": {},
   "outputs": [
    {
     "data": {
      "text/plain": [
       "(array([ 10.,  22.,  38.,  82.,   8.,  32.,  66.,  34.,  39.,  19.,   6.,\n",
       "         40., 125.,  60., 104., 146.,  74.,  64.,  96.,  95., 148.,  69.,\n",
       "         56.,  29.,  63.,  73.,  65.,  12.,  38.,  16.,  16.,  12.,  17.,\n",
       "         31.,  58.,  31.,  60.,  40.,  56.,  44.,  33.,  14.,  16.,  35.,\n",
       "         34.,  21.,  20.,   2.,   3.,  36.,   7.,   6.,   1.,   0.,   3.,\n",
       "          1.,   2.,  10.,   0.,   2.,  11.,   2.,   0.,   0.,   1.,   2.,\n",
       "          0.,   0.,   0.,   0.,   0.,   0.,   0.,   0.,   0.,   1.,   0.,\n",
       "          4.,   8.,   6.,   3.,  10.,   8.,   4.,   8.,   6.,   4.,   8.,\n",
       "          8.,   5.,   7.,   5.,   1.,   3.,   1.,   7.,   1.,   6.,   3.,\n",
       "          2.]),\n",
       " array([   98.55099949,   242.32509108,   386.09918268,   529.87327427,\n",
       "          673.64736586,   817.42145746,   961.19554905,  1104.96964065,\n",
       "         1248.74373224,  1392.51782384,  1536.29191543,  1680.06600703,\n",
       "         1823.84009862,  1967.61419022,  2111.38828181,  2255.16237341,\n",
       "         2398.936465  ,  2542.7105566 ,  2686.48464819,  2830.25873979,\n",
       "         2974.03283138,  3117.80692298,  3261.58101457,  3405.35510616,\n",
       "         3549.12919776,  3692.90328935,  3836.67738095,  3980.45147254,\n",
       "         4124.22556414,  4267.99965573,  4411.77374733,  4555.54783892,\n",
       "         4699.32193052,  4843.09602211,  4986.87011371,  5130.6442053 ,\n",
       "         5274.4182969 ,  5418.19238849,  5561.96648009,  5705.74057168,\n",
       "         5849.51466328,  5993.28875487,  6137.06284646,  6280.83693806,\n",
       "         6424.61102965,  6568.38512125,  6712.15921284,  6855.93330444,\n",
       "         6999.70739603,  7143.48148763,  7287.25557922,  7431.02967082,\n",
       "         7574.80376241,  7718.57785401,  7862.3519456 ,  8006.1260372 ,\n",
       "         8149.90012879,  8293.67422039,  8437.44831198,  8581.22240358,\n",
       "         8724.99649517,  8868.77058676,  9012.54467836,  9156.31876995,\n",
       "         9300.09286155,  9443.86695314,  9587.64104474,  9731.41513633,\n",
       "         9875.18922793, 10018.96331952, 10162.73741112, 10306.51150271,\n",
       "        10450.28559431, 10594.0596859 , 10737.8337775 , 10881.60786909,\n",
       "        11025.38196069, 11169.15605228, 11312.93014388, 11456.70423547,\n",
       "        11600.47832706, 11744.25241866, 11888.02651025, 12031.80060185,\n",
       "        12175.57469344, 12319.34878504, 12463.12287663, 12606.89696823,\n",
       "        12750.67105982, 12894.44515142, 13038.21924301, 13181.99333461,\n",
       "        13325.7674262 , 13469.5415178 , 13613.31560939, 13757.08970099,\n",
       "        13900.86379258, 14044.63788418, 14188.41197577, 14332.18606736,\n",
       "        14475.96015896]),\n",
       " <BarContainer object of 100 artists>)"
      ]
     },
     "execution_count": 12,
     "metadata": {},
     "output_type": "execute_result"
    },
    {
     "data": {
      "image/png": "[encoded data removed]",
      "text/plain": [
       "<Figure size 432x288 with 1 Axes>"
      ]
     },
     "metadata": {
      "needs_background": "light"
     },
     "output_type": "display_data"
    }
   ],
   "source": [
    "plt.hist(distances, 100, facecolor='blue', alpha=0.5)"
   ]
  },
  {
   "cell_type": "code",
   "execution_count": 13,
   "id": "public-penguin",
   "metadata": {},
   "outputs": [
    {
     "data": {
      "text/plain": [
       "array(['DXB'], dtype=object)"
      ]
     },
     "execution_count": 13,
     "metadata": {},
     "output_type": "execute_result"
    }
   ],
   "source": [
    "data.destination.unique()"
   ]
  },
  {
   "cell_type": "code",
   "execution_count": 14,
   "id": "going-lucas",
   "metadata": {},
   "outputs": [
    {
     "data": {
      "text/plain": [
       "DEL    99\n",
       "BOM    93\n",
       "BAH    68\n",
       "CAI    54\n",
       "DAC    53\n",
       "       ..\n",
       "HRG     1\n",
       "STN     1\n",
       "KZN     1\n",
       "SZX     1\n",
       "LYS     1\n",
       "Name: origin, Length: 202, dtype: int64"
      ]
     },
     "execution_count": 14,
     "metadata": {},
     "output_type": "execute_result"
    }
   ],
   "source": [
    "new_df['origin'].value_counts()"
   ]
  },
  {
   "cell_type": "code",
   "execution_count": 15,
   "id": "instrumental-journal",
   "metadata": {},
   "outputs": [],
   "source": [
    "max_flights_df = new_df.loc[new_df['origin']=='DEL']"
   ]
  },
  {
   "cell_type": "code",
   "execution_count": 16,
   "id": "center-conversation",
   "metadata": {},
   "outputs": [
    {
     "name": "stdout",
     "output_type": "stream",
     "text": [
      "distance    2342.838781\n",
      "dtype: float64\n",
      "distance    1818.606981\n",
      "dtype: float64\n"
     ]
    }
   ],
   "source": [
    "print(max_flights_df.mean())\n",
    "print(max_flights_df.var())"
   ]
  },
  {
   "cell_type": "code",
   "execution_count": 18,
   "id": "golden-graham",
   "metadata": {},
   "outputs": [
    {
     "data": {
      "image/png": "[encoded data removed]",
      "text/plain": [
       "<Figure size 432x288 with 1 Axes>"
      ]
     },
     "metadata": {
      "needs_background": "light"
     },
     "output_type": "display_data"
    }
   ],
   "source": [
    "del_data = data.loc[data['origin']=='DEL']\n",
    "del_ids = del_data['airsenseMissionId'].unique()\n",
    "for mission_id in del_ids:\n",
    "    test = del_data.loc[del_data['airsenseMissionId']==mission_id]\n",
    "    test_sorted = test.sort_values('posTime')\n",
    "    plt.plot(test_sorted.lat, test_sorted.lon)"
   ]
  },
  {
   "cell_type": "code",
   "execution_count": null,
   "id": "structural-investigator",
   "metadata": {},
   "outputs": [],
   "source": []
  }
 ],
 "metadata": {
  "kernelspec": {
   "display_name": "Python 3",
   "language": "python",
   "name": "python3"
  },
  "language_info": {
   "codemirror_mode": {
    "name": "ipython",
    "version": 3
   },
   "file_extension": ".py",
   "mimetype": "text/x-python",
   "name": "python",
   "nbconvert_exporter": "python",
   "pygments_lexer": "ipython3",
   "version": "3.6.8"
  }
 },
 "nbformat": 4,
 "nbformat_minor": 5
}
